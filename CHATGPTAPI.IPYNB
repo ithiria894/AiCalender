{
 "cells": [
  {
   "cell_type": "code",
   "execution_count": 4,
   "metadata": {},
   "outputs": [
    {
     "ename": "SyntaxError",
     "evalue": "leading zeros in decimal integer literals are not permitted; use an 0o prefix for octal integers (1015278990.py, line 11)",
     "output_type": "error",
     "traceback": [
      "\u001b[1;36m  Cell \u001b[1;32mIn[4], line 11\u001b[1;36m\u001b[0m\n\u001b[1;33m    NOW THE TIME IS 2024 02 11 13:51\u001b[0m\n\u001b[1;37m                         ^\u001b[0m\n\u001b[1;31mSyntaxError\u001b[0m\u001b[1;31m:\u001b[0m leading zeros in decimal integer literals are not permitted; use an 0o prefix for octal integers\n"
     ]
    }
   ],
   "source": [
    "Helps schedule events from natural language to JSON.\n",
    "\n",
    "\n",
    "For phone-based events like calls or Zoom meetings, \n",
    "it defaults to a 5-minute advance reminder unless specified otherwise. \n",
    "For out-of-house events, such as football games or dentist appointments, \n",
    "it defaults to reminders at 1 hour and 30 minutes in advance, \n",
    "unless a different time is specified by the user.\n",
    "All events will end 1 hour after the start time unless specified otherwise.\n",
    "\n",
    "PROMT:\n",
    "NOW THE TIME IS 2024 02 11 13:51\n",
    "TODAY 3PM I HAVE TO GO TO FOOTBALL, REMIND BE 30MIN AGO.\n",
    "\n",
    "return as a JSON object in this format:\n",
    "{\n",
    "    \"title\" : \"go to football\",\n",
    "    \"start: \"202402111500\",\n",
    "    \"end\": \"202402111600\",\n",
    "    \"alarm\": \"202402111430\"\n",
    "}\n",
    "\n",
    "ONLY REPLY THE JSON OBJECT, NO NEED TO PRINT ANYTHING ELSE.\n",
    "\n",
    "PROMT:\n",
    "NEXT TUESDAY 3PM I HAVE A ZOOM MEETING, REMIND ME 10MIN AGO.\n"
   ]
  },
  {
   "cell_type": "code",
   "execution_count": null,
   "metadata": {},
   "outputs": [],
   "source": []
  },
  {
   "cell_type": "code",
   "execution_count": null,
   "metadata": {},
   "outputs": [],
   "source": []
  }
 ],
 "metadata": {
  "kernelspec": {
   "display_name": "Python 3",
   "language": "python",
   "name": "python3"
  },
  "language_info": {
   "codemirror_mode": {
    "name": "ipython",
    "version": 3
   },
   "file_extension": ".py",
   "mimetype": "text/x-python",
   "name": "python",
   "nbconvert_exporter": "python",
   "pygments_lexer": "ipython3",
   "version": "3.12.1"
  }
 },
 "nbformat": 4,
 "nbformat_minor": 2
}
